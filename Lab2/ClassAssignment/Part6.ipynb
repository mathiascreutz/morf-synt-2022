{
 "cells": [
  {
   "cell_type": "markdown",
   "metadata": {},
   "source": [
    "## Part 6. Tagalog and Arabic\n",
    "\n",
    "Study the lecture slides of the second language technology lecture. Then, if you still have time and feel like continuing, work on lexicons for limited reduplication of Tagalog verbs and on the templatic morphology for the Arabic roots: d-r-s and k-t-b.\n",
    "\n",
    "You don't have to use the same syntax for your rules as in the lecture slides. You can come up with your own solutions."
   ]
  },
  {
   "cell_type": "code",
   "execution_count": null,
   "metadata": {},
   "outputs": [],
   "source": [
    "\"\"\" Limited stem reduplication for Tagalog \"\"\"\n",
    "\n",
    "from morpholexicon import *\n",
    "\n",
    "def tagalog_rules(input):\n",
    "    \"\"\" Limited reduplication in Tagalog verbs \"\"\"\n",
    "    \n",
    "    # This is the rule from Part 4. You might actually want to have some special symbol that triggers reduplication.\n",
    "    # The special symbol needs to be at the end of the stem, if you want to align it with a grammatical label,\n",
    "    # such as +Redup\n",
    "    replace(r'(?P<CV>[bcdfghjklmnpqrstvwxyz][aeiou])', r'\\g<CV>\\g<CV>', r'^', r'', input)\n",
    "    \n",
    "def tagalog_root(state):\n",
    "    pass # Replace this with your own code\n",
    "\n",
    "# The main program starts here\n",
    "\n",
    "# First load the lexicon and tell Python that \"tagalog_root\" is the starting point\n",
    "# and that there are replace rules in a function called \"tagalog_rules\"\n",
    "load_lexicon(tagalog_root, tagalog_rules)\n",
    "\n",
    "# Generate all surface forms recognized by this lexicon\n",
    "generate_all()\n",
    "\n",
    "# End of program"
   ]
  },
  {
   "cell_type": "markdown",
   "metadata": {},
   "source": [
    "Your Arabic lexicon goes here:"
   ]
  },
  {
   "cell_type": "code",
   "execution_count": null,
   "metadata": {},
   "outputs": [],
   "source": [
    "\"\"\" Arabic templatic morphology \"\"\"\n",
    "\n",
    "from morpholexicon import *\n",
    "\n",
    "def arabic_rules(input):\n",
    "    pass # Replace this with your own code\n",
    "\n",
    "def arabic_root(state):\n",
    "    pass # Replace this with your own code\n",
    "\n",
    "# The main program starts here\n",
    "\n",
    "# First load the lexicon and tell Python that \"arabic_root\" is the starting point\n",
    "# and that there are replace rules in a function called \"arabic_rules\"\n",
    "load_lexicon(arabic_root, arabic_rules)\n",
    "\n",
    "# Generate all surface forms recognized by this lexicon\n",
    "generate_all()\n",
    "\n",
    "# End of program"
   ]
  },
  {
   "cell_type": "markdown",
   "metadata": {},
   "source": [
    "When you are done with Part 6, you can continue to the home assignment."
   ]
  }
 ],
 "metadata": {
  "kernelspec": {
   "display_name": "Python 3",
   "language": "python",
   "name": "python3"
  },
  "language_info": {
   "codemirror_mode": {
    "name": "ipython",
    "version": 3
   },
   "file_extension": ".py",
   "mimetype": "text/x-python",
   "name": "python",
   "nbconvert_exporter": "python",
   "pygments_lexer": "ipython3",
   "version": "3.9.0"
  }
 },
 "nbformat": 4,
 "nbformat_minor": 2
}
